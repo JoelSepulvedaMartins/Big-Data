{
  "nbformat": 4,
  "nbformat_minor": 0,
  "metadata": {
    "colab": {
      "provenance": []
    },
    "kernelspec": {
      "name": "python3",
      "display_name": "Python 3"
    },
    "language_info": {
      "name": "python"
    }
  },
  "cells": [
    {
      "cell_type": "code",
      "execution_count": 1,
      "metadata": {
        "id": "vmzA-19rt93R"
      },
      "outputs": [],
      "source": [
        "def fahr2cel(temp):\n",
        "  temp =  (temp-32)*(5/9)\n",
        "  return temp"
      ]
    },
    {
      "cell_type": "code",
      "source": [
        "t = fahr2cel(100)\n",
        "t"
      ],
      "metadata": {
        "colab": {
          "base_uri": "https://localhost:8080/"
        },
        "id": "bb2yf97Eudqt",
        "outputId": "752a320f-c0f4-4c4c-f6c3-9161d046e9dd"
      },
      "execution_count": 2,
      "outputs": [
        {
          "output_type": "execute_result",
          "data": {
            "text/plain": [
              "37.77777777777778"
            ]
          },
          "metadata": {},
          "execution_count": 2
        }
      ]
    },
    {
      "cell_type": "code",
      "source": [
        "t = lambda temp: (temp-32) * (5/9)\n",
        "t(100)"
      ],
      "metadata": {
        "colab": {
          "base_uri": "https://localhost:8080/"
        },
        "id": "j5fVi-9ZukUc",
        "outputId": "53fddcac-84ff-4ee1-9154-280fa53de792"
      },
      "execution_count": 3,
      "outputs": [
        {
          "output_type": "execute_result",
          "data": {
            "text/plain": [
              "37.77777777777778"
            ]
          },
          "metadata": {},
          "execution_count": 3
        }
      ]
    },
    {
      "cell_type": "code",
      "source": [
        "(lambda temp: (temp-32)*(5/9))(100)"
      ],
      "metadata": {
        "colab": {
          "base_uri": "https://localhost:8080/"
        },
        "id": "2BFQS4R8urFj",
        "outputId": "0677fb32-2c52-4026-8205-8c9b09312a71"
      },
      "execution_count": 4,
      "outputs": [
        {
          "output_type": "execute_result",
          "data": {
            "text/plain": [
              "37.77777777777778"
            ]
          },
          "metadata": {},
          "execution_count": 4
        }
      ]
    },
    {
      "cell_type": "code",
      "source": [
        "# função que faz a soma de dois números\n",
        "ans = lambda x,y: x+y\n",
        "ans(10,5)"
      ],
      "metadata": {
        "colab": {
          "base_uri": "https://localhost:8080/"
        },
        "id": "e9Nk5kxPuzN9",
        "outputId": "f8ce2293-152c-41d7-bc67-fdbc66a24c05"
      },
      "execution_count": 5,
      "outputs": [
        {
          "output_type": "execute_result",
          "data": {
            "text/plain": [
              "15"
            ]
          },
          "metadata": {},
          "execution_count": 5
        }
      ]
    },
    {
      "cell_type": "code",
      "source": [
        "# função que filtra uma lista retornado somente os valores pares\n",
        "lista = [1,4,6,3,1,7,9,3,4,6]\n",
        "def filtra_pares(lista):\n",
        "  l = []\n",
        "  for x in lista:\n",
        "    if x%2 == 0:\n",
        "      l.append(x)\n",
        "  return l\n",
        "\n",
        "pares = filtra_pares(lista)\n",
        "pares"
      ],
      "metadata": {
        "colab": {
          "base_uri": "https://localhost:8080/"
        },
        "id": "FYso5cZqu_yd",
        "outputId": "ec25d14c-0f49-436d-941e-f87344ad2de4"
      },
      "execution_count": 7,
      "outputs": [
        {
          "output_type": "execute_result",
          "data": {
            "text/plain": [
              "[4, 6, 4, 6]"
            ]
          },
          "metadata": {},
          "execution_count": 7
        }
      ]
    },
    {
      "cell_type": "code",
      "source": [
        "pares = list(filter(lambda x: x%2 == 0, lista))\n",
        "pares"
      ],
      "metadata": {
        "colab": {
          "base_uri": "https://localhost:8080/"
        },
        "id": "5fnpXb3svTFp",
        "outputId": "7cf0908f-5c29-44dd-cc29-b8bad4a07f14"
      },
      "execution_count": 8,
      "outputs": [
        {
          "output_type": "execute_result",
          "data": {
            "text/plain": [
              "[4, 6, 4, 6]"
            ]
          },
          "metadata": {},
          "execution_count": 8
        }
      ]
    },
    {
      "cell_type": "code",
      "source": [
        "from functools import reduce\n",
        "numbers = [1, 5, 2, 12, 10]\n",
        "\n",
        "p = reduce(lambda x,y: x*y if x>y else x+y, numbers)\n",
        "p"
      ],
      "metadata": {
        "colab": {
          "base_uri": "https://localhost:8080/"
        },
        "id": "0KOSyZQdvr-p",
        "outputId": "8c856c59-1ed9-443d-f950-177f3f851839"
      },
      "execution_count": 9,
      "outputs": [
        {
          "output_type": "execute_result",
          "data": {
            "text/plain": [
              "240"
            ]
          },
          "metadata": {},
          "execution_count": 9
        }
      ]
    },
    {
      "cell_type": "code",
      "source": [
        "class Product:\n",
        "  # construtor da classe\n",
        "  def __init__(self, description, price):\n",
        "    self.description = description\n",
        "    self.price = price\n",
        "\n",
        "  # método para escrever os atributos de um objeto\n",
        "  def __str__(self):\n",
        "    return f\"Produto: {self.description}\\nPreço: {self.price:.2f}\\n\""
      ],
      "metadata": {
        "id": "d8m0KbsFwmfT"
      },
      "execution_count": 10,
      "outputs": []
    },
    {
      "cell_type": "code",
      "source": [
        "# cria uma lista com 3 objetos do tipo Product\n",
        "obj1 = Product(\"Cadeira gamer\", 999)\n",
        "obj2 = Product(\"Mouse Logitech\", 515)\n",
        "obj3 = Product(\"Monitor 23 pol\", 1400)\n",
        "\n",
        "lista_produtos = [obj1, obj2, obj3]"
      ],
      "metadata": {
        "id": "YlNYdDXMxxZC"
      },
      "execution_count": 11,
      "outputs": []
    },
    {
      "cell_type": "code",
      "source": [
        "for i in lista_produtos:\n",
        "  print(i)"
      ],
      "metadata": {
        "colab": {
          "base_uri": "https://localhost:8080/"
        },
        "id": "6y40gP7EyIGU",
        "outputId": "8d4aca91-fde7-41fd-d128-04e1f289a096"
      },
      "execution_count": 12,
      "outputs": [
        {
          "output_type": "stream",
          "name": "stdout",
          "text": [
            "Produto: Cadeira gamer\n",
            "Preço: 999.00\n",
            "\n",
            "Produto: Mouse Logitech\n",
            "Preço: 515.00\n",
            "\n",
            "Produto: Monitor 23 pol\n",
            "Preço: 1400.00\n",
            "\n"
          ]
        }
      ]
    },
    {
      "cell_type": "code",
      "source": [
        "# aumenta o preço em 10% de cada produto\n",
        "nova_lista = list(map(lambda p: Product(p.description, p.price*1.1), lista_produtos))\n",
        "\n",
        "for i in nova_lista:\n",
        "  print(i)"
      ],
      "metadata": {
        "colab": {
          "base_uri": "https://localhost:8080/"
        },
        "id": "6RoxvGKMyRh_",
        "outputId": "ef682e0b-fe63-4a99-e4ee-668ad3b12773"
      },
      "execution_count": 13,
      "outputs": [
        {
          "output_type": "stream",
          "name": "stdout",
          "text": [
            "Produto: Cadeira gamer\n",
            "Preço: 1098.90\n",
            "\n",
            "Produto: Mouse Logitech\n",
            "Preço: 566.50\n",
            "\n",
            "Produto: Monitor 23 pol\n",
            "Preço: 1540.00\n",
            "\n"
          ]
        }
      ]
    },
    {
      "cell_type": "code",
      "source": [
        "# retorna os produtos que possuem um preço acima de 1000\n",
        "maiores_precos = list(filter(lambda p: p.price > 1000, nova_lista))\n",
        "for i in maiores_precos:\n",
        "  print(i)"
      ],
      "metadata": {
        "colab": {
          "base_uri": "https://localhost:8080/"
        },
        "id": "H0YGuTKBzVZi",
        "outputId": "98da9e7c-bd11-4770-b718-a1104fbd37f0"
      },
      "execution_count": 14,
      "outputs": [
        {
          "output_type": "stream",
          "name": "stdout",
          "text": [
            "Produto: Cadeira gamer\n",
            "Preço: 1098.90\n",
            "\n",
            "Produto: Monitor 23 pol\n",
            "Preço: 1540.00\n",
            "\n"
          ]
        }
      ]
    },
    {
      "cell_type": "code",
      "source": [
        "from functools import reduce\n",
        "# soma o preço de todos os produtos\n",
        "soma_preco = reduce(lambda x,y: x+y, map(lambda x: x.price, nova_lista))\n",
        "print(f\"{soma_preco:.2f}\")"
      ],
      "metadata": {
        "colab": {
          "base_uri": "https://localhost:8080/"
        },
        "id": "ae-Ig8y90Or3",
        "outputId": "e03ad96c-b773-4b3f-861a-9d14909934ba"
      },
      "execution_count": 18,
      "outputs": [
        {
          "output_type": "stream",
          "name": "stdout",
          "text": [
            "3205.40\n"
          ]
        }
      ]
    },
    {
      "cell_type": "code",
      "source": [
        "# retornar o objeto com o maior preço\n",
        "maior_preco = reduce(lambda x,y: x if x.price > y.price else y, nova_lista)\n",
        "print(maior_preco)"
      ],
      "metadata": {
        "colab": {
          "base_uri": "https://localhost:8080/"
        },
        "id": "FYCnUCdM1BYB",
        "outputId": "506baebc-09bd-4087-8d1e-84c3cc7d1e33"
      },
      "execution_count": 22,
      "outputs": [
        {
          "output_type": "stream",
          "name": "stdout",
          "text": [
            "Produto: Monitor 23 pol\n",
            "Preço: 1540.00\n",
            "\n"
          ]
        }
      ]
    },
    {
      "cell_type": "code",
      "source": [],
      "metadata": {
        "id": "2zWCFBZ32iTp"
      },
      "execution_count": null,
      "outputs": []
    }
  ]
}
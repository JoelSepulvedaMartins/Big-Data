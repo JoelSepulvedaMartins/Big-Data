{
  "nbformat": 4,
  "nbformat_minor": 0,
  "metadata": {
    "colab": {
      "provenance": []
    },
    "kernelspec": {
      "name": "python3",
      "display_name": "Python 3"
    },
    "language_info": {
      "name": "python"
    }
  },
  "cells": [
    {
      "cell_type": "code",
      "source": [
        "\n",
        "!pip install pyspark"
      ],
      "metadata": {
        "id": "z0NC0ayy4j1b"
      },
      "execution_count": null,
      "outputs": []
    },
    {
      "cell_type": "code",
      "source": [
        "#importação das bibliotecas\n",
        "import pyspark #biblioteca principal\n",
        "from pyspark.sql import SparkSession # biblioteca para a criação de uma sessão Spark\n",
        "\n",
        "spark = SparkSession.builder.appName(\"Airpot Paris\").master('local[*]').getOrCreate()\n",
        "\n",
        "\n",
        "sc = spark.sparkContext\n",
        "\n",
        "rdd = sc.textFile(\"Airports.csv\")\n",
        "rdd.take(5)"
      ],
      "metadata": {
        "colab": {
          "base_uri": "https://localhost:8080/",
          "height": 401
        },
        "id": "ewPDlFmw4Aua",
        "outputId": "35d36aca-ae32-483a-e580-fe0e97e92d46"
      },
      "execution_count": null,
      "outputs": [
        {
          "output_type": "error",
          "ename": "ModuleNotFoundError",
          "evalue": "ignored",
          "traceback": [
            "\u001b[0;31m---------------------------------------------------------------------------\u001b[0m",
            "\u001b[0;31mModuleNotFoundError\u001b[0m                       Traceback (most recent call last)",
            "\u001b[0;32m<ipython-input-1-79d4ab0d6a00>\u001b[0m in \u001b[0;36m<cell line: 2>\u001b[0;34m()\u001b[0m\n\u001b[1;32m      1\u001b[0m \u001b[0;31m#importação das bibliotecas\u001b[0m\u001b[0;34m\u001b[0m\u001b[0;34m\u001b[0m\u001b[0m\n\u001b[0;32m----> 2\u001b[0;31m \u001b[0;32mimport\u001b[0m \u001b[0mpyspark\u001b[0m \u001b[0;31m#biblioteca principal\u001b[0m\u001b[0;34m\u001b[0m\u001b[0;34m\u001b[0m\u001b[0m\n\u001b[0m\u001b[1;32m      3\u001b[0m \u001b[0;32mfrom\u001b[0m \u001b[0mpyspark\u001b[0m\u001b[0;34m.\u001b[0m\u001b[0msql\u001b[0m \u001b[0;32mimport\u001b[0m \u001b[0mSparkSession\u001b[0m \u001b[0;31m# biblioteca para a criação de uma sessão Spark\u001b[0m\u001b[0;34m\u001b[0m\u001b[0;34m\u001b[0m\u001b[0m\n\u001b[1;32m      4\u001b[0m \u001b[0;34m\u001b[0m\u001b[0m\n\u001b[1;32m      5\u001b[0m \u001b[0mspark\u001b[0m \u001b[0;34m=\u001b[0m \u001b[0mSparkSession\u001b[0m\u001b[0;34m.\u001b[0m\u001b[0mbuilder\u001b[0m\u001b[0;34m.\u001b[0m\u001b[0mappName\u001b[0m\u001b[0;34m(\u001b[0m\u001b[0;34m\"Airpot Paris\"\u001b[0m\u001b[0;34m)\u001b[0m\u001b[0;34m.\u001b[0m\u001b[0mmaster\u001b[0m\u001b[0;34m(\u001b[0m\u001b[0;34m'local[*]'\u001b[0m\u001b[0;34m)\u001b[0m\u001b[0;34m.\u001b[0m\u001b[0mgetOrCreate\u001b[0m\u001b[0;34m(\u001b[0m\u001b[0;34m)\u001b[0m\u001b[0;34m\u001b[0m\u001b[0;34m\u001b[0m\u001b[0m\n",
            "\u001b[0;31mModuleNotFoundError\u001b[0m: No module named 'pyspark'",
            "",
            "\u001b[0;31m---------------------------------------------------------------------------\u001b[0;32m\nNOTE: If your import is failing due to a missing package, you can\nmanually install dependencies using either !pip or !apt.\n\nTo view examples of installing some common dependencies, click the\n\"Open Examples\" button below.\n\u001b[0;31m---------------------------------------------------------------------------\u001b[0m\n"
          ],
          "errorDetails": {
            "actions": [
              {
                "action": "open_url",
                "actionText": "Open Examples",
                "url": "/notebooks/snippets/importing_libraries.ipynb"
              }
            ]
          }
        }
      ]
    },
    {
      "cell_type": "code",
      "source": [
        "pairRDD = rdd.map(lambda x: (x.split(\",\")[2], x.split(\",\")[3]))\n",
        "\n",
        "\n",
        "\n"
      ],
      "metadata": {
        "id": "jCXQRu5x4s76"
      },
      "execution_count": null,
      "outputs": []
    },
    {
      "cell_type": "code",
      "source": [
        "#retorna somente as entradas em que a cidade é igual a PARIS\n",
        "pairRDD_Paris = pairRDD.filter(lambda x: x[1] == \"PARIS\")\n",
        "pairRDD_Paris.collect()\n"
      ],
      "metadata": {
        "colab": {
          "base_uri": "https://localhost:8080/"
        },
        "id": "1b7krYaI5HAE",
        "outputId": "4f58f83a-13a3-4340-a753-df7b75b37560"
      },
      "execution_count": null,
      "outputs": [
        {
          "output_type": "execute_result",
          "data": {
            "text/plain": [
              "[('LE BOURGET', 'PARIS'),\n",
              " ('CHARLES DE GAULLE', 'PARIS'),\n",
              " ('N/A', 'PARIS'),\n",
              " ('ORLY', 'PARIS')]"
            ]
          },
          "metadata": {},
          "execution_count": 16
        }
      ]
    },
    {
      "cell_type": "code",
      "source": [
        "##capitalize somente os valores\n",
        "pairRDD_Paris_capitalized = pairRDD_Paris.mapValues(lambda x: x.capitalize())\n",
        "pairRDD_Paris_capitalized.collect()\n",
        "\n"
      ],
      "metadata": {
        "colab": {
          "base_uri": "https://localhost:8080/"
        },
        "id": "6st8eLI25Vm7",
        "outputId": "ed0da941-ef16-4ad8-a08f-8925be6c7698"
      },
      "execution_count": null,
      "outputs": [
        {
          "output_type": "execute_result",
          "data": {
            "text/plain": [
              "[('LE BOURGET', 'Paris'),\n",
              " ('CHARLES DE GAULLE', 'Paris'),\n",
              " ('N/A', 'Paris'),\n",
              " ('ORLY', 'Paris')]"
            ]
          },
          "metadata": {},
          "execution_count": 20
        }
      ]
    },
    {
      "cell_type": "code",
      "source": [
        "## ordenar os registros com base o nome do aeroporto\n",
        "pairRDD_Paris_capitalized_sorted = pairRDD_Paris_capitalized.sortByKey(ascending=True)\n",
        "pairRDD_Paris_capitalized_sorted.collect()"
      ],
      "metadata": {
        "colab": {
          "base_uri": "https://localhost:8080/"
        },
        "id": "7e7u7eAy57zH",
        "outputId": "5561dbe4-f75c-4554-921a-914e62fb490e"
      },
      "execution_count": null,
      "outputs": [
        {
          "output_type": "execute_result",
          "data": {
            "text/plain": [
              "[('CHARLES DE GAULLE', 'Paris'),\n",
              " ('LE BOURGET', 'Paris'),\n",
              " ('N/A', 'Paris'),\n",
              " ('ORLY', 'Paris')]"
            ]
          },
          "metadata": {},
          "execution_count": 18
        }
      ]
    },
    {
      "cell_type": "code",
      "source": [
        "#remover cabeclho\n",
        "rdd = rdd.filter(lambda x: x.split(\",\")[0]!=\"icao_code\")\n"
      ],
      "metadata": {
        "id": "ThFtih3m-Bvh",
        "colab": {
          "base_uri": "https://localhost:8080/",
          "height": 200
        },
        "outputId": "6436d336-00ee-4df6-ddff-9ddee2c33eb4"
      },
      "execution_count": null,
      "outputs": [
        {
          "output_type": "error",
          "ename": "NameError",
          "evalue": "ignored",
          "traceback": [
            "\u001b[0;31m---------------------------------------------------------------------------\u001b[0m",
            "\u001b[0;31mNameError\u001b[0m                                 Traceback (most recent call last)",
            "\u001b[0;32m<ipython-input-2-f0a3defb02eb>\u001b[0m in \u001b[0;36m<cell line: 2>\u001b[0;34m()\u001b[0m\n\u001b[1;32m      1\u001b[0m \u001b[0;31m#remover cabeclho\u001b[0m\u001b[0;34m\u001b[0m\u001b[0;34m\u001b[0m\u001b[0m\n\u001b[0;32m----> 2\u001b[0;31m \u001b[0mrdd\u001b[0m \u001b[0;34m=\u001b[0m \u001b[0mrdd\u001b[0m\u001b[0;34m.\u001b[0m\u001b[0mfilter\u001b[0m\u001b[0;34m(\u001b[0m\u001b[0;32mlambda\u001b[0m \u001b[0mx\u001b[0m\u001b[0;34m:\u001b[0m \u001b[0mx\u001b[0m\u001b[0;34m.\u001b[0m\u001b[0msplit\u001b[0m\u001b[0;34m(\u001b[0m\u001b[0;34m\",\"\u001b[0m\u001b[0;34m)\u001b[0m\u001b[0;34m[\u001b[0m\u001b[0;36m0\u001b[0m\u001b[0;34m]\u001b[0m\u001b[0;34m!=\u001b[0m\u001b[0;34m\"icao_code\"\u001b[0m\u001b[0;34m)\u001b[0m\u001b[0;34m\u001b[0m\u001b[0;34m\u001b[0m\u001b[0m\n\u001b[0m",
            "\u001b[0;31mNameError\u001b[0m: name 'rdd' is not defined"
          ]
        }
      ]
    },
    {
      "cell_type": "code",
      "source": [
        "#encontra os egistros coa cidade igual a paris e altitude > 80\n",
        "pairRDD = rdd.map(lambda x: (x.split(\",\")[2], (x.split(\",\")[3],int(x.split(\",\")[13]))))\n",
        "pairRDD.take(5)"
      ],
      "metadata": {
        "colab": {
          "base_uri": "https://localhost:8080/"
        },
        "id": "DTjMdi4h9frk",
        "outputId": "f6c6a972-abd7-43e3-de02-823d45c40d64"
      },
      "execution_count": null,
      "outputs": [
        {
          "output_type": "execute_result",
          "data": {
            "text/plain": [
              "[('GOROKA', ('GOROKA', 1610)),\n",
              " ('N/A', ('LAE', 0)),\n",
              " ('MADANG', ('MADANG', 7)),\n",
              " ('MOUNT HAGEN', ('MOUNT HAGEN', 1643)),\n",
              " ('NADZAB', ('NADZAB', 73))]"
            ]
          },
          "metadata": {},
          "execution_count": 33
        }
      ]
    },
    {
      "cell_type": "code",
      "source": [
        "pairRDD_Paris = pairRDD.filter(lambda x: x[1][0]==\"PARIS\" and x[1][1]>80)\n",
        "pairRDD_Paris.collect()\n"
      ],
      "metadata": {
        "colab": {
          "base_uri": "https://localhost:8080/"
        },
        "id": "kOKZ4GWk-Znd",
        "outputId": "52f6acdc-092d-4a8e-ccbf-f0587b0a8fb9"
      },
      "execution_count": null,
      "outputs": [
        {
          "output_type": "execute_result",
          "data": {
            "text/plain": [
              "[('CHARLES DE GAULLE', ('PARIS', 120)), ('ORLY', ('PARIS', 89))]"
            ]
          },
          "metadata": {},
          "execution_count": 31
        }
      ]
    },
    {
      "cell_type": "code",
      "source": [
        "#capitalize somente na cidade\n",
        "pairRDD_Paris_capitalized = pairRDD_Paris.mapValues(lambda x: (x[0].capitalize(), x[1]))\n",
        "pairRDD_Paris_capitalized.collect()"
      ],
      "metadata": {
        "colab": {
          "base_uri": "https://localhost:8080/"
        },
        "id": "HnXNgfbW_JfS",
        "outputId": "78a7d93e-c8ac-4937-9ac8-9dc09b452d7c"
      },
      "execution_count": null,
      "outputs": [
        {
          "output_type": "execute_result",
          "data": {
            "text/plain": [
              "[('CHARLES DE GAULLE', ('Paris', 120)), ('ORLY', ('Paris', 89))]"
            ]
          },
          "metadata": {},
          "execution_count": 39
        }
      ]
    },
    {
      "cell_type": "code",
      "source": [
        "#ordena com base a chave\n",
        "pairRDD_Paris_capitalized_sorted = pairRDD_Paris_capitalized.sortBy(lambda x: x[1][1], ascending=True) ## arrumar\n",
        "pairRDD_Paris_capitalized_sorted.collect()"
      ],
      "metadata": {
        "colab": {
          "base_uri": "https://localhost:8080/"
        },
        "id": "kPDybc9L_1v2",
        "outputId": "825f45ad-999a-47e3-b524-be0391b2b8ca"
      },
      "execution_count": null,
      "outputs": [
        {
          "output_type": "execute_result",
          "data": {
            "text/plain": [
              "[('ORLY', ('Paris', 89)), ('CHARLES DE GAULLE', ('Paris', 120))]"
            ]
          },
          "metadata": {},
          "execution_count": 70
        }
      ]
    },
    {
      "cell_type": "code",
      "source": [
        "##Word count\n",
        "rdd = sc.textFile(\"domcasmurro.txt\")\n",
        "\n",
        "\n",
        "rdd_fratten = rdd.flatMap(lambda x: x.split(\" \"))\n",
        "#gerando um novo rdd formato (chave,valor -> (word, ocurrence))\n",
        "\n",
        "pairRDD = rdd_fratten.map(lambda x: (x.lower(), 1))\n",
        "pairRDD.collect()\n",
        "\n",
        "\n",
        "#removendo chaves vazias\n",
        "pairRDD_filtered = pairRDD.filter(lambda x: x[0] != \"\")\n",
        "\n",
        "#reduce by key\n",
        "\n",
        "wordCount = pairRDD_filtered.reduceByKey(lambda x,y: x+y)\n",
        "wordCount.take(5)\n",
        "\n",
        "# ordenaçao pela quantidade de ocorrencias\n",
        "wordCountSorted =wordCount.sortBy(lambda x: x[1], ascending=False)\n",
        "##wordCountSorted.take(5)"
      ],
      "metadata": {
        "id": "8o_1B3jtJfKI"
      },
      "execution_count": null,
      "outputs": []
    },
    {
      "cell_type": "code",
      "source": [
        "#Atividade3 == quarto 2 == value\n",
        "rdd = sc.textFile(\"RealEstate.csv\")\n",
        "rdd = rdd.filter(lambda x: x.split(\",\")[0]!=\"MLS\")\n",
        "\n",
        "\n",
        "rdd.take(5)\n",
        "rdd_fratten = rdd.map(lambda x: x.split(\",\"))\n",
        "rdd_fratten.take(5)\n",
        "rddKeyComposite = rdd_fratten.map(lambda x: ((x[4], x[6]),(1)))\n",
        "rddKeyComposite.take(5)\n"
      ],
      "metadata": {
        "id": "e-mdViiWMJRW"
      },
      "execution_count": null,
      "outputs": []
    },
    {
      "cell_type": "code",
      "source": [
        "rdd = sc.textFile(\"RealEstate.csv\")\n",
        "rdd = rdd.filter(lambda x: x.split(\",\")[0]!=\"MLS\")\n",
        "def buid_tuple(s):\n",
        "  fields = s.split(\",\")\n",
        "  return (int(fields[3]), (float(fields[2]),1))\n",
        "\n",
        "pairRDD =rdd.map(buid_tuple)\n",
        "pairRDD.take(5)\n"
      ],
      "metadata": {
        "colab": {
          "base_uri": "https://localhost:8080/"
        },
        "id": "Gpx0ow_fTKn4",
        "outputId": "1ac0a221-e1b6-451e-e828-a2719ca6ac30"
      },
      "execution_count": null,
      "outputs": [
        {
          "output_type": "execute_result",
          "data": {
            "text/plain": [
              "[(3, (795000.0, 1)),\n",
              " (4, (399000.0, 1)),\n",
              " (4, (545000.0, 1)),\n",
              " (4, (909000.0, 1)),\n",
              " (3, (109900.0, 1))]"
            ]
          },
          "metadata": {},
          "execution_count": 109
        }
      ]
    },
    {
      "cell_type": "code",
      "source": [
        "pairRDDsum = pairRDD.reduceByKey(lambda x,y: (x[0]+y[0], x[1]+y[1]))\n",
        "pairRDDsum.take(5)"
      ],
      "metadata": {
        "colab": {
          "base_uri": "https://localhost:8080/"
        },
        "id": "mitFgK0gUGlu",
        "outputId": "34498c57-c682-4b0d-be5d-0da4785265f2"
      },
      "execution_count": null,
      "outputs": [
        {
          "output_type": "execute_result",
          "data": {
            "text/plain": [
              "[(4, (85575190.0, 177)),\n",
              " (2, (32761834.0, 123)),\n",
              " (0, (586900.0, 2)),\n",
              " (6, (2412900.0, 4)),\n",
              " (10, (699000.0, 1))]"
            ]
          },
          "metadata": {},
          "execution_count": 110
        }
      ]
    },
    {
      "cell_type": "code",
      "source": [
        "pairRDD_avarege = pairRDDsum.mapValues(lambda x: x[0]/x[1])\n",
        "pairRDD_avarege.collect()"
      ],
      "metadata": {
        "colab": {
          "base_uri": "https://localhost:8080/"
        },
        "id": "XCbuJol6Utlq",
        "outputId": "8c031171-08e8-49c3-90b6-11c613576536"
      },
      "execution_count": null,
      "outputs": [
        {
          "output_type": "execute_result",
          "data": {
            "text/plain": [
              "[(4, 483475.6497175141),\n",
              " (2, 266356.3739837398),\n",
              " (0, 293450.0),\n",
              " (6, 603225.0),\n",
              " (10, 699000.0),\n",
              " (3, 359062.20649651974),\n",
              " (7, 325000.0),\n",
              " (1, 169981.81818181818),\n",
              " (5, 657858.0645161291)]"
            ]
          },
          "metadata": {},
          "execution_count": 111
        }
      ]
    },
    {
      "cell_type": "code",
      "source": [
        "pairRDD_avarege_Sorted = pairRDD_avarege.sortByKey(ascending=True)\n",
        "pairRDD_avarege_Sorted.collect()"
      ],
      "metadata": {
        "colab": {
          "base_uri": "https://localhost:8080/"
        },
        "id": "Zzrdpw5bVcUV",
        "outputId": "f84e12e2-0e8f-491d-9213-a51f99e5b7dc"
      },
      "execution_count": null,
      "outputs": [
        {
          "output_type": "execute_result",
          "data": {
            "text/plain": [
              "[(0, 293450.0),\n",
              " (1, 169981.81818181818),\n",
              " (2, 266356.3739837398),\n",
              " (3, 359062.20649651974),\n",
              " (4, 483475.6497175141),\n",
              " (5, 657858.0645161291),\n",
              " (6, 603225.0),\n",
              " (7, 325000.0),\n",
              " (10, 699000.0)]"
            ]
          },
          "metadata": {},
          "execution_count": 115
        }
      ]
    }
  ]
}